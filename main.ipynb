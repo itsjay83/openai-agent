{
 "cells": [
  {
   "cell_type": "code",
   "execution_count": null,
   "id": "d4b839d5",
   "metadata": {},
   "outputs": [],
   "source": [
    "import os, json\n",
    "from dotenv import load_dotenv\n",
    "\n",
    "load_dotenv()\n",
    "\n",
    "openai_api_key = os.getenv(\"OPENAI_API_KEY\")"
   ]
  },
  {
   "cell_type": "code",
   "execution_count": null,
   "id": "db2196c7",
   "metadata": {},
   "outputs": [],
   "source": [
    "import openai\n",
    "client = openai.OpenAI()\n",
    "\n",
    "PROMPT = \"\"\"\n",
    "I have the following function\n",
    "\n",
    "`get_weather`\n",
    "`get_currecy`\n",
    "`get_news`\n",
    "\n",
    "All of them receive the name of a country as an arguemtn (i.e get_news('Spain))\n",
    "\n",
    "Please anser with the name of the function that you would like me to run.\n",
    "\n",
    "Please say nothing else, just the name of the functino with the arguemtns.\n",
    "\n",
    "Answer th following question: What is the capital of Korea?\n",
    "\n",
    "\"\"\"\n",
    "response = client.chat.completions.create(\n",
    "\tmodel=\"gpt-4o-mini\",\n",
    "\tmessages=[{\n",
    "\t\t\"role\" : \"user\",\n",
    "\t\t\"content\" : PROMPT\n",
    "\t}]\n",
    "\n",
    ")\n",
    "\n",
    "response"
   ]
  },
  {
   "cell_type": "code",
   "execution_count": null,
   "id": "fed04fd4",
   "metadata": {},
   "outputs": [],
   "source": [
    "message =response.choices[0].message.content\n",
    "\n",
    "message"
   ]
  },
  {
   "cell_type": "code",
   "execution_count": 1,
   "id": "7998b4f1",
   "metadata": {},
   "outputs": [],
   "source": [
    "import openai, json\n",
    "\n",
    "client = openai.OpenAI()\n",
    "messages = []"
   ]
  },
  {
   "cell_type": "code",
   "execution_count": 2,
   "id": "b6c3fa65",
   "metadata": {},
   "outputs": [],
   "source": [
    "def get_weather(city):\n",
    "\treturn \"33 degrees celcius.\"\n",
    "\n",
    "\n",
    "FUNCTION_MAP = {\n",
    "\t\"get_weather\": get_weather,\n",
    "}"
   ]
  },
  {
   "cell_type": "code",
   "execution_count": 3,
   "id": "7e5aa544",
   "metadata": {},
   "outputs": [],
   "source": [
    "TOOLS = [\n",
    "    {\n",
    "        \"type\": \"function\",\n",
    "        \"function\": {\n",
    "            \"name\": \"get_weather\",\n",
    "            \"description\": \"A function to get the weather of a city.\",\n",
    "            \"parameters\": {\n",
    "                \"type\": \"object\",\n",
    "                \"properties\": {\n",
    "                    \"city\": {\n",
    "                        \"type\": \"string\",\n",
    "                        \"description\": \"The name of the city to get the weather of.\",\n",
    "                    }\n",
    "                },\n",
    "                \"required\": [\"city\"],\n",
    "            },\n",
    "        },\n",
    "    }\n",
    "]"
   ]
  },
  {
   "cell_type": "code",
   "execution_count": 4,
   "id": "0ef8c715",
   "metadata": {},
   "outputs": [],
   "source": [
    "from openai.types.chat import ChatCompletionMessage\n",
    "\n",
    "def process_ai_response(message: ChatCompletionMessage):\n",
    "\tif message.tool_calls:\n",
    "\t\tmessages.append({\n",
    "\t\t\t\"role\" : \"assistant\",\n",
    "\t\t\t\"content\" : message.content or \"\",\n",
    "\t\t\t\"tool_calls\" : [\n",
    "\t\t\t\t{\n",
    "\t\t\t\t\t\"id\" : tool_call.id,\n",
    "\t\t\t\t\t\"type\" : \"function\",\n",
    "\t\t\t\t\t\"function\" : {\n",
    "\t\t\t\t\t\t\"name\" : tool_call.function.name,\n",
    "\t\t\t\t\t\t\t\"arguments\" : tool_call.function.arguments\n",
    "\t\t\t\t\t\t}\n",
    "\t\t\t\t\t} for tool_call in message.tool_calls\n",
    "\t\t\t\t],\n",
    "\t\t\t}\n",
    "\t\t)\n",
    "\n",
    "\t\tfor tool_call in message.tool_calls:\n",
    "\t\t\tfunction_name = tool_call.function.name\n",
    "\t\t\targuments = tool_call.function.arguments\n",
    "\n",
    "\t\t\tprint(f\"Calling function: {function_name} with arguments {arguments}\")\n",
    "\n",
    "\t\t\ttry :\n",
    "\t\t\t\targuments = json.loads(arguments)\n",
    "\t\t\texcept json.JSONDecodeError:\n",
    "\t\t\t\targuments = {}\n",
    "\n",
    "\t\t\tfunction_to_run = FUNCTION_MAP.get(function_name)\n",
    "\n",
    "\t\t\tresult = function_to_run(**arguments)\n",
    "\n",
    "\t\t\tprint(f\"Ran {function_name} with args {arguments} for a result of {result}\")\n",
    "\n",
    "\t\t\tmessages.append({\n",
    "\t\t\t\t\"role\" : \"tool\",\n",
    "\t\t\t\t\"tool_call_id\" : tool_call.id,\n",
    "\t\t\t\t\"name\" : function_name,\n",
    "\t\t\t\t\"content\" : result\n",
    "\t\t\t})\n",
    "\t\tcall_ai()\n",
    "\t\t\n",
    "\telse :\n",
    "\t\tmessages.append({\"role\" : \"assistant\", \"content\" : message.content})\n",
    "\t\tprint(f\"AI: {message.content}\")\n",
    "\n",
    "def call_ai():\n",
    "\t\tresponse = client.chat.completions.create(\n",
    "\t\t\tmodel=\"gpt-4o-mini\",\n",
    "\t\t\tmessages=messages,\n",
    "\t\t\ttools=TOOLS,\n",
    "\t\t)\n",
    "\t\tprocess_ai_response(response.choices[0].message)"
   ]
  },
  {
   "cell_type": "code",
   "execution_count": 5,
   "id": "524f680a",
   "metadata": {},
   "outputs": [
    {
     "name": "stdout",
     "output_type": "stream",
     "text": [
      "User: what is the weather in Korea?\n",
      "Calling function: get_weather with arguments {\"city\":\"Seoul\"}\n",
      "Ran get_weather with args {'city': 'Seoul'} for a result of 33 degrees celcius.\n",
      "AI: The weather in Seoul, Korea is 33 degrees Celsius.\n",
      "User: wow Awesome\n",
      "AI: I'm glad you think so! If you have any more questions about the weather or anything else, feel free to ask!\n"
     ]
    }
   ],
   "source": [
    "while True:\n",
    "\tmessage = input(\"Send a message to LLM...\")\n",
    "\tif message == 'quit':\n",
    "\t\tbreak\n",
    "\telse:\n",
    "\t\tmessages.append({\n",
    "\t\t\t\"role\" : \"user\",\n",
    "\t\t\t\"content\" : message\n",
    "\t\t})\n",
    "\t\tprint(f\"User: {message}\")\n",
    "\t\tcall_ai()"
   ]
  },
  {
   "cell_type": "code",
   "execution_count": null,
   "id": "86f8e97a",
   "metadata": {},
   "outputs": [],
   "source": [
    "messages"
   ]
  },
  {
   "cell_type": "code",
   "execution_count": null,
   "id": "04d601d1",
   "metadata": {},
   "outputs": [],
   "source": []
  }
 ],
 "metadata": {
  "kernelspec": {
   "display_name": ".venv",
   "language": "python",
   "name": "python3"
  },
  "language_info": {
   "codemirror_mode": {
    "name": "ipython",
    "version": 3
   },
   "file_extension": ".py",
   "mimetype": "text/x-python",
   "name": "python",
   "nbconvert_exporter": "python",
   "pygments_lexer": "ipython3",
   "version": "3.11.13"
  }
 },
 "nbformat": 4,
 "nbformat_minor": 5
}
