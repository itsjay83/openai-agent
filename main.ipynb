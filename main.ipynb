{
 "cells": [
  {
   "cell_type": "code",
   "execution_count": 7,
   "id": "d4b839d5",
   "metadata": {},
   "outputs": [],
   "source": [
    "import os, json\n",
    "from dotenv import load_dotenv\n",
    "\n",
    "load_dotenv()\n",
    "\n",
    "openai_api_key = os.getenv(\"OPENAI_API_KEY\")"
   ]
  },
  {
   "cell_type": "code",
   "execution_count": 2,
   "id": "db2196c7",
   "metadata": {},
   "outputs": [
    {
     "data": {
      "text/plain": [
       "ChatCompletion(id='chatcmpl-CETpQ7uLfEgtwxfUuKDjq7maKJKJF', choices=[Choice(finish_reason='stop', index=0, logprobs=None, message=ChatCompletionMessage(content=\"get_news('South Korea')\", refusal=None, role='assistant', annotations=[], audio=None, function_call=None, tool_calls=None))], created=1757567288, model='gpt-4o-mini-2024-07-18', object='chat.completion', service_tier='default', system_fingerprint='fp_8bda4d3a2c', usage=CompletionUsage(completion_tokens=6, prompt_tokens=98, total_tokens=104, completion_tokens_details=CompletionTokensDetails(accepted_prediction_tokens=0, audio_tokens=0, reasoning_tokens=0, rejected_prediction_tokens=0), prompt_tokens_details=PromptTokensDetails(audio_tokens=0, cached_tokens=0)))"
      ]
     },
     "execution_count": 2,
     "metadata": {},
     "output_type": "execute_result"
    }
   ],
   "source": [
    "import openai\n",
    "client = openai.OpenAI()\n",
    "\n",
    "PROMPT = \"\"\"\n",
    "I have the following function\n",
    "\n",
    "`get_weather`\n",
    "`get_currecy`\n",
    "`get_news`\n",
    "\n",
    "All of them receive the name of a country as an arguemtn (i.e get_news('Spain))\n",
    "\n",
    "Please anser with the name of the function that you would like me to run.\n",
    "\n",
    "Please say nothing else, just the name of the functino with the arguemtns.\n",
    "\n",
    "Answer th following question: What is the capital of Korea?\n",
    "\n",
    "\"\"\"\n",
    "response = client.chat.completions.create(\n",
    "\tmodel=\"gpt-4o-mini\",\n",
    "\tmessages=[{\n",
    "\t\t\"role\" : \"user\",\n",
    "\t\t\"content\" : PROMPT\n",
    "\t}]\n",
    "\n",
    ")\n",
    "\n",
    "response"
   ]
  },
  {
   "cell_type": "code",
   "execution_count": 3,
   "id": "fed04fd4",
   "metadata": {},
   "outputs": [
    {
     "data": {
      "text/plain": [
       "\"get_news('South Korea')\""
      ]
     },
     "execution_count": 3,
     "metadata": {},
     "output_type": "execute_result"
    }
   ],
   "source": [
    "message =response.choices[0].message.content\n",
    "\n",
    "message"
   ]
  },
  {
   "cell_type": "code",
   "execution_count": 4,
   "id": "7998b4f1",
   "metadata": {},
   "outputs": [],
   "source": [
    "import openai\n",
    "client = openai.OpenAI()\n",
    "messages = []"
   ]
  },
  {
   "cell_type": "code",
   "execution_count": 5,
   "id": "b6c3fa65",
   "metadata": {},
   "outputs": [],
   "source": [
    "def get_weather(city):\n",
    "\treturn \"33 degrees celcius.\"\n",
    "\n",
    "FUNCCTION_MAP = {\n",
    "\t'get_weather' : get_weather,\n",
    "}"
   ]
  },
  {
   "cell_type": "code",
   "execution_count": 6,
   "id": "7e5aa544",
   "metadata": {},
   "outputs": [],
   "source": [
    "TOOLS = [\n",
    "\t{\n",
    "\t\t\"type\" : \"function\",\n",
    "\t\t\"function\" : {\n",
    "\t\t\t\"name\" : \"get_weather\",\n",
    "\t\t\t\"description\" : \"A function to get the weather of a city.\",\n",
    "\t\t\t\"parameters\" : {\n",
    "\t\t\t\t\"type\" : \"object\",\n",
    "\t\t\t\t\"properties\" : {\n",
    "\t\t\t\t\t\"city\" : {\n",
    "\t\t\t\t\t\t\"type\" : \"string\",\n",
    "\t\t\t\t\t\t\"description\" : \"The name of the city to get the weather of.\"\n",
    "\t\t\t\t\t}\n",
    "\t\t\t\t},\n",
    "\t\t\t\t\"required\" : [\"city\"]\n",
    "\t\t\t}\n",
    "\t\t}\n",
    "\t}\n",
    "]"
   ]
  },
  {
   "cell_type": "code",
   "execution_count": null,
   "id": "0ef8c715",
   "metadata": {},
   "outputs": [],
   "source": [
    "from openai.types.chat import ChatCompletionMessage\n",
    "\n",
    "def process_ai_response(message: ChatCompletionMessage):\n",
    "\tif message.tool_calls > 0 :\n",
    "\t\tmessage.append({\n",
    "\t\t\t\"role\" : \"assistant\",\n",
    "\t\t\t\"continue\" : message.content or \"\",\n",
    "\t\t\t\"tool_calls\" : [{\n",
    "\t\t\t\t\"id\" : tools_call.id,\n",
    "\t\t\t\t\"type\" : \"function\",\n",
    "\t\t\t\t\"functions\" : {\n",
    "\t\t\t\t\t\"name\" : tool_call.function.name,\n",
    "\t\t\t\t\t\"arguments\" : tool_call.function.arguments\n",
    "\t\t\t\t}\n",
    "\t\t\t} for tool_calls in message.tool_calls]\n",
    "\t\t})\n",
    "\n",
    "\t\tfor tool_call in message.tool_calls:\n",
    "\t\t\tfunction_name = tool_call.function.name\n",
    "\t\t\targuments = tool_call.function.arguments\n",
    "\n",
    "\t\t\tprint(f\"Calling function: {function_name} with arguments {arguments}\")\n",
    "\n",
    "\t\t\ttry :\n",
    "\t\t\t\targuments = json.loads(arguments)\n",
    "\t\t\texcept json.JSONDecodeError:\n",
    "\t\t\t\targuments = {}\n",
    "\n",
    "\t\t\tfunction_to_run = FUNCCTION_MAP.get(function_name)\n",
    "\n",
    "\t\t\tresult = function_to_run(**arguments)\n",
    "\n",
    "\t\t\tmessage.append({\n",
    "\t\t\t\t\"role\" : \"tool\",\n",
    "\t\t\t\t\"tool_call_id\" : tool_call.id,\n",
    "\t\t\t\t\"name\" : function_name,\n",
    "\t\t\t\t\"content\" : result\n",
    "\t\t\t})\n",
    "\t\t\t\n",
    "\t\t\t"
   ]
  },
  {
   "cell_type": "code",
   "execution_count": 9,
   "id": "519b7133",
   "metadata": {},
   "outputs": [],
   "source": [
    "def call_ai():\n",
    "\t\tresponse = client.chat.completions.create(\n",
    "\t\t\tmodel=\"gpt-4o-mini\",\n",
    "\t\t\tmessages=messages,\n",
    "\t\t\ttools=TOOLS,\n",
    "\n",
    "\t\t)\n",
    "\t\tprocess_ai_response(response.choices[0].message)\n",
    "\t\tprint(response)\n",
    "\t\tmessage = response.choices[0].message.content.tool_calls\n",
    "\t\tmessages.append({\n",
    "\t\t\t\"role\" : \"assistant\",\n",
    "\t\t\t\"content\" : message\n",
    "\t\t})\n",
    "\t\t# return message\n",
    "\t\tprint(f\"AI: {message}\")"
   ]
  },
  {
   "cell_type": "code",
   "execution_count": 10,
   "id": "524f680a",
   "metadata": {},
   "outputs": [],
   "source": [
    "while True:\n",
    "\tmessage = input(\"Send a message to LLM...\")\n",
    "\tif message == 'quit':\n",
    "\t\tbreak\n",
    "\telse:\n",
    "\t\tmessages.append({\n",
    "\t\t\t\"role\" : \"user\",\n",
    "\t\t\t\"content\" : message\n",
    "\t\t})\n",
    "\t\tprint(f\"User: {message}\")\n",
    "\t\tcall_ai()"
   ]
  },
  {
   "cell_type": "code",
   "execution_count": null,
   "id": "86f8e97a",
   "metadata": {},
   "outputs": [],
   "source": []
  }
 ],
 "metadata": {
  "kernelspec": {
   "display_name": ".venv",
   "language": "python",
   "name": "python3"
  },
  "language_info": {
   "codemirror_mode": {
    "name": "ipython",
    "version": 3
   },
   "file_extension": ".py",
   "mimetype": "text/x-python",
   "name": "python",
   "nbconvert_exporter": "python",
   "pygments_lexer": "ipython3",
   "version": "3.11.13"
  }
 },
 "nbformat": 4,
 "nbformat_minor": 5
}
